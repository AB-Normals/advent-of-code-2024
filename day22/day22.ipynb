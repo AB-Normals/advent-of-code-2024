{
 "cells": [
  {
   "cell_type": "markdown",
   "metadata": {},
   "source": [
    "# --- Day 22: Monkey Market ---"
   ]
  },
  {
   "cell_type": "code",
   "execution_count": 47,
   "metadata": {},
   "outputs": [
    {
     "name": "stdout",
     "output_type": "stream",
     "text": [
      "The solution for part 1 is: 14392541715\n",
      "The solution for part 2 is: 1628\n"
     ]
    }
   ],
   "source": [
    "# --- Part One and Part Two ---\n",
    "\n",
    "from collections import defaultdict\n",
    "from typing import List, Dict, Tuple\n",
    "from functools import cache\n",
    "from itertools import product\n",
    "\n",
    "def next_secret(secret):\n",
    "    MODULO = 16777216  # The pruning modulo\n",
    "    # Step 1: Multiply by 64, mix, and prune\n",
    "    secret = (secret ^ (secret * 64)) % MODULO\n",
    "    # Step 2: Divide by 32 (floor), mix, and prune\n",
    "    secret = (secret ^ (secret // 32)) % MODULO\n",
    "    # Step 3: Multiply by 2048, mix, and prune\n",
    "    secret = (secret ^ (secret * 2048)) % MODULO\n",
    "    return secret\n",
    "\n",
    "def find_nth_secret(initial, nth):\n",
    "    secret = initial\n",
    "    for _ in range(nth):\n",
    "        secret = next_secret(secret)\n",
    "    return secret\n",
    "\n",
    "# Test first 10 secrets from starting secret \"123\"\n",
    "# to check correctness of function next_secret\n",
    "secret = 123\n",
    "for expected in [15887950,16495136,527345,704524,1553684,12683156,11100544,12249484,7753432,5908254]:\n",
    "    secret = next_secret(secret)\n",
    "    assert expected == secret, f\"next_secret: mismatch - computed={computed}, expected={expected}\" \n",
    "\n",
    "# Parse file\n",
    "\n",
    "filename = \"input.txt\"\n",
    "#filename = \"test.txt\" # decomment to test\n",
    "#filename = \"test2.txt\" # decomment to test\n",
    "\n",
    "with open(filename, 'r') as file:\n",
    "    initial_secrets = [int(c.strip()) for c in file]\n",
    "    # print (initial_secrets)\n",
    "\n",
    "results = [find_nth_secret(secret, 2000) for secret in initial_secrets]\n",
    "\n",
    "res1 = sum(results)\n",
    "\n",
    "print(f\"The solution for part 1 is: {res1}\")\n",
    "\n",
    "# --- Part Two ---\n",
    "\n",
    "sequences: Dict[Tuple[int,int,int,int], int]  = defaultdict(int) # sequences : total_bananas \n",
    "\n",
    "def sequences_price(initial:int, nth:int, sequences:Dict[Tuple[int,int,int,int], int]):\n",
    "    \"\"\"\n",
    "    Second version: fill sequences dict with total bananas for each different sequences \n",
    "    \"\"\"\n",
    "    tmp_seq = []\n",
    "    secret = initial\n",
    "    price = secret % 10\n",
    "    done = set() # I need to keep only first occurence of sequence\n",
    "    # print (f\"{secret:>8}: {price}\")\n",
    "    for _ in range(1,nth):\n",
    "        secret = next_secret(secret)\n",
    "        change = secret % 10 - price\n",
    "        # print (f\"{secret:>8}: {price} ({change})\")\n",
    "        price = secret % 10\n",
    "        tmp_seq.append(change)\n",
    "        if len(tmp_seq) == 4:\n",
    "            seq = tuple(tmp_seq)\n",
    "            if seq not in done: \n",
    "                sequences[seq] += price\n",
    "                done.add(seq)\n",
    "            tmp_seq.pop(0)\n",
    "\n",
    "# test with 123\n",
    "#sequences_price(123, 10, sequences)\n",
    "\n",
    "for secret in initial_secrets:\n",
    "    sequences_price(secret, 2000, sequences)\n",
    "\n",
    "sorted_sequences = sorted(sequences.items(), key=lambda i : i[1], reverse=True)\n",
    "\n",
    "# print (sorted_sequences[0])\n",
    "\n",
    "res2 = sorted_sequences[0][1]\n",
    "\n",
    "print(f\"The solution for part 2 is: {res2}\")"
   ]
  }
 ],
 "metadata": {
  "kernelspec": {
   "display_name": ".venv",
   "language": "python",
   "name": "python3"
  },
  "language_info": {
   "codemirror_mode": {
    "name": "ipython",
    "version": 3
   },
   "file_extension": ".py",
   "mimetype": "text/x-python",
   "name": "python",
   "nbconvert_exporter": "python",
   "pygments_lexer": "ipython3",
   "version": "3.13.1"
  }
 },
 "nbformat": 4,
 "nbformat_minor": 2
}
