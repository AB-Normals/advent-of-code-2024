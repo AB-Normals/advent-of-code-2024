{
 "cells": [
  {
   "cell_type": "markdown",
   "metadata": {},
   "source": [
    "# --- Day 23: LAN Party ---"
   ]
  },
  {
   "cell_type": "code",
   "execution_count": 186,
   "metadata": {},
   "outputs": [
    {
     "name": "stdout",
     "output_type": "stream",
     "text": [
      "The solution for part 1 is: 1378\n",
      "The solution for part 2 is: bs,ey,fq,fy,he,ii,lh,ol,tc,uu,wl,xq,xv\n"
     ]
    }
   ],
   "source": [
    "# --- Part One and Part Two ---\n",
    "\n",
    "from collections import defaultdict, Counter\n",
    "from typing import List, Dict, Tuple, Set\n",
    "# from functools import cache\n",
    "from itertools import chain\n",
    "\n",
    "filename = 'input.txt'\n",
    "#filename = 'test.txt' # decomment for test\n",
    "\n",
    "def map_connections(filename):\n",
    "    connections: [str, List] = defaultdict(list)\n",
    "    conn = []\n",
    "    with open(filename, 'r') as file:\n",
    "        conn = [r.strip().split('-') for r in file]\n",
    "    for a, b in conn:\n",
    "        connections[a].append(b)\n",
    "        connections[b].append(a)\n",
    "    return connections\n",
    "\n",
    "def triple_connection(connections, filter = lambda i: i[0]=='t'):\n",
    "    retvalues: Set[Tuple[str,str,str]] = set() \n",
    "    conn = connections.copy()\n",
    "    for a, conn_a in conn.items():\n",
    "        for b in conn_a:\n",
    "            # check for a c that is connected to a\n",
    "            for c in conn[b]:\n",
    "                if a in conn[c]:\n",
    "                    if filter and (filter(a) or filter(b) or filter(c)):\n",
    "                        retvalues.add(tuple(sorted([a, b, c])))\n",
    "    return retvalues\n",
    "\n",
    "connections = map_connections(filename)\n",
    "\n",
    "#print(connections)\n",
    "conn3 = triple_connection(connections)\n",
    "res1 = len(conn3)\n",
    "\n",
    "print(f\"The solution for part 1 is: {res1}\")\n",
    "\n",
    "# --- Part Two ---\n",
    "\n",
    "possible_ret= set()\n",
    "for x in connections.keys():\n",
    "    tot = [[x, *connections[x]]]+[[k, *connections[k]] for k in [l for l in connections[x]]]\n",
    "    counted = (sorted([list(x)[::-1]for x in Counter(list(chain(*tot))).items()],reverse = True))\n",
    "    nr = counted[1][0]\n",
    "    if nr == counted[nr-1][0]:\n",
    "        #print (f\"counted({nr}-1) = {counted[nr-1]} \")\n",
    "        possible_ret.add(','.join(sorted([v[1] for v in counted[:nr]])))\n",
    "    \n",
    "res2 = sorted(list(possible_ret), key=len, reverse=True)[0] \n",
    "\n",
    "print(f\"The solution for part 2 is: {res2}\")"
   ]
  }
 ],
 "metadata": {
  "kernelspec": {
   "display_name": ".venv",
   "language": "python",
   "name": "python3"
  },
  "language_info": {
   "codemirror_mode": {
    "name": "ipython",
    "version": 3
   },
   "file_extension": ".py",
   "mimetype": "text/x-python",
   "name": "python",
   "nbconvert_exporter": "python",
   "pygments_lexer": "ipython3",
   "version": "3.13.1"
  }
 },
 "nbformat": 4,
 "nbformat_minor": 2
}
