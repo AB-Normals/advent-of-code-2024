{
 "cells": [
  {
   "cell_type": "markdown",
   "metadata": {},
   "source": [
    "# --- Day 24: Crossed Wires ---"
   ]
  },
  {
   "cell_type": "code",
   "execution_count": 294,
   "metadata": {},
   "outputs": [
    {
     "name": "stdout",
     "output_type": "stream",
     "text": [
      "0b1101000110000001000100111011111110001101001110\n",
      "The solution for part 1 is: 57588078076750\n"
     ]
    }
   ],
   "source": [
    "# --- Part One and Part Two ---\n",
    "\n",
    "from collections import defaultdict,Counter\n",
    "from typing import List, Dict, Tuple, Set\n",
    "# from functools import cache\n",
    "from itertools import chain\n",
    "\n",
    "filename = 'input.txt'\n",
    "#filename = 'test1.txt' # decomment for test\n",
    "#filename = 'test2.txt' # decomment for test\n",
    "\n",
    "a = None\n",
    "wires = defaultdict(None)\n",
    "signals = {}\n",
    "\n",
    "def logic_execute(logic: Tuple)-> bool:\n",
    "    global wires\n",
    "    outn, (an, fn, bn) = logic\n",
    "    a = wires[an]\n",
    "    b = wires[bn]\n",
    "    out = wires[outn]\n",
    "    if a is None or b is None:\n",
    "        return False\n",
    "    if fn == \"AND\":\n",
    "        out = a & b\n",
    "    elif fn == \"OR\":\n",
    "        out = a | b\n",
    "    elif fn == \"XOR\":\n",
    "        out = a ^ b \n",
    "    else:\n",
    "        return False\n",
    "    wires[outn] = out\n",
    "    return True\n",
    "\n",
    "def parse_file(filename):\n",
    "    global wires\n",
    "    global signals\n",
    "    with open(filename, 'r') as file:\n",
    "        lines = [l.strip() for l in file]\n",
    "        # get signals/wires list\n",
    "        i = lines.index('')\n",
    "        wires = {k.strip() : int(v.strip()) for k, v in  [l.split(':') for l in lines[:i]]}\n",
    "        # logic_ports = {tuple([*lg, out]) : out for lg, out in [(logic.strip().split(' '), o) for logic, o in  [l.split('-> ') for l in lines[i+1:]]]}\n",
    "        signals = { out : tuple(lg) for lg, out in [(logic.strip().split(' '), o) for logic, o in  [l.split('-> ') for l in lines[i+1:]]]}\n",
    "        #print (logic_ports)\n",
    "        for s in signals:  \n",
    "            wires[s] = None\n",
    "\n",
    "def execute():\n",
    "    global signals\n",
    "    queue = [l for l in signals.items()]\n",
    "    while queue:\n",
    "        l = queue.pop(0)\n",
    "        if not logic_execute(l):\n",
    "            queue.append(l)\n",
    "\n",
    "\n",
    "# --- main ---\n",
    "\n",
    "parse_file(filename)\n",
    "\n",
    "execute()\n",
    "\n",
    "z = \"0b\"+''.join([str(c) for k, c in sorted(wires.items()) if k.startswith('z') ][::-1])\n",
    "print(z)\n",
    "res1 =  int(z,2)\n",
    "\n",
    "print(f\"The solution for part 1 is: {res1}\")\n",
    "\n"
   ]
  },
  {
   "cell_type": "code",
   "execution_count": 295,
   "metadata": {},
   "outputs": [
    {
     "name": "stdout",
     "output_type": "stream",
     "text": [
      "28885735145135 28702208779295 57588078076750 57587943924430\n",
      "['z07', 'z08', 'z16', 'z17', 'z18', 'z19', 'z20', 'z27', 'z28', 'z29', 'z30']\n",
      "['z07', 'z16', 'z23', 'z27']\n"
     ]
    }
   ],
   "source": [
    "\n",
    "def wires_get(v):\n",
    "    \"\"\"return int value of bits v00 - vxx from wires\"\"\"\n",
    "    variable = \"0b\"+''.join([str(c) for k, c in sorted(wires.items()) if k.startswith(v[0])][::-1])\n",
    "    return int(variable,2)\n",
    "\n",
    "def wires_set(v, value): # force 45 bits\n",
    "    for i in range(45):\n",
    "        variable = f\"{v[0]}{i:02}\"\n",
    "        wires[variable] = value & 1\n",
    "        value = value >> 1\n",
    "\n",
    "def evaluate(x, y) -> int:\n",
    "    global wires\n",
    "    # reset all signals\n",
    "    for w in wires:\n",
    "        wires[w] = None\n",
    "    wires_set('x',x)\n",
    "    wires_set('y',y)\n",
    "    execute()\n",
    "    return(wires_get('z'))\n",
    "\n",
    "def touched(v):\n",
    "    global signals\n",
    "    retlist = set()\n",
    "    \"\"\" return list of signals (excluding x anf y) that are involvend in 'v' calculation \"\"\"\n",
    "    if v[0] in ['x', 'y']:\n",
    "        return list(retlist)\n",
    "    queue = [v]\n",
    "    while queue:\n",
    "        s = queue.pop(0)\n",
    "        retlist.add(s)\n",
    "        s1, _, s2 = signals[s]\n",
    "        if s1[0] not in ['x', 'y'] and s1 not in retlist:\n",
    "            queue.append(s1)\n",
    "        if s2[0] not in ['x', 'y'] and s2 not in retlist:\n",
    "            queue.append(s2)\n",
    "    return list(retlist)\n",
    "\n",
    "# find failed bits fron z\n",
    "\n",
    "#t = sorted(touched('z31'))\n",
    "\n",
    "#print (t)\n",
    "\n",
    "# execute with default x and y\n",
    "execute()\n",
    "\n",
    "y = wires_get('y')\n",
    "x = wires_get('x')\n",
    "z = wires_get('z') \n",
    "\n",
    "print(x, y, z, x + y)\n",
    "\n",
    "mask = z ^ (x + y)\n",
    "failed_bits = [f\"z{i:02}\" for i,v in enumerate(bin(mask)[2:][::-1]) if v == '1']\n",
    "\n",
    "print (failed_bits)\n",
    "\n",
    "# get signals involved in all failed_bits\n",
    "# involved = [touched(fb) for fb in failed_bits]\n",
    "\n",
    "# print (involved)\n",
    "# print (len(involved))\n",
    "\n",
    "# all_involved = list(chain(*involved))\n",
    "# print (all_involved)\n",
    "\n",
    "\n",
    "#all_involved_reduced = set(all_involved[0]) & set(all_involved[1])\n",
    "# for l in all_involved[1:]:\n",
    "#     all_involved_reduced = all_involved_reduced & set(l)\n",
    "\n",
    "bad_z =[]\n",
    "for j in range(45):\n",
    "    x = 0\n",
    "    y = 1 << j\n",
    "    if evaluate(x, y) != x + y:\n",
    "        \n",
    "        bad_z.append(f\"z{j:02}\")\n",
    "\n",
    "print(bad_z)  \n",
    "\n"
   ]
  },
  {
   "cell_type": "markdown",
   "metadata": {},
   "source": [
    "For the solution of part 2 I proceed by hand using notes.txt and the following code"
   ]
  },
  {
   "cell_type": "code",
   "execution_count": 296,
   "metadata": {},
   "outputs": [
    {
     "data": {
      "text/plain": [
       "'wvb = AND (x26 y26)'"
      ]
     },
     "execution_count": 296,
     "metadata": {},
     "output_type": "execute_result"
    }
   ],
   "source": [
    "v = \"wvb\"\n",
    "a, f, b = signals[v]\n",
    "f\"{v} = {f} ({a} {b})\""
   ]
  },
  {
   "cell_type": "code",
   "execution_count": 304,
   "metadata": {},
   "outputs": [
    {
     "name": "stdout",
     "output_type": "stream",
     "text": [
      "FANTASTIC\n",
      "The solution for part 2 is: kcd,pfn,shj,tpk,wkb,z07,z23,z27\n"
     ]
    }
   ],
   "source": [
    "# --- Part Two ---\n",
    "\n",
    "# Test if correct solution\n",
    "\n",
    "parse_file(filename)\n",
    "\n",
    "swaps = [(\"z07\" , \"shj\"), (\"tpk\", \"wkb\"), (\"z23\", \"pfn\"), (\"z27\", \"kcd\")]\n",
    "\n",
    "for sw in swaps:\n",
    "    a = signals[sw[0]]\n",
    "    b = signals[sw[1]]\n",
    "    signals[sw[0]] = b\n",
    "    signals[sw[1]] = a\n",
    "\n",
    "error = False\n",
    "for i in range(45):\n",
    "    for j in range(45):\n",
    "        x = 1 << i\n",
    "        y = 1 << j\n",
    "        if evaluate(x, y) != x + y:\n",
    "            print (f\"Something is not working\")\n",
    "            error = True\n",
    "            break\n",
    "    if error : break\n",
    "\n",
    "if not error:\n",
    "    print (\"FANTASTIC\")\n",
    "    res2 = ','.join(sorted(list(chain(*[[*l] for l in swaps ]))))\n",
    "\n",
    "\n",
    "print(f\"The solution for part 2 is: {res2}\")"
   ]
  }
 ],
 "metadata": {
  "kernelspec": {
   "display_name": ".venv",
   "language": "python",
   "name": "python3"
  },
  "language_info": {
   "codemirror_mode": {
    "name": "ipython",
    "version": 3
   },
   "file_extension": ".py",
   "mimetype": "text/x-python",
   "name": "python",
   "nbconvert_exporter": "python",
   "pygments_lexer": "ipython3",
   "version": "3.13.1"
  }
 },
 "nbformat": 4,
 "nbformat_minor": 2
}
