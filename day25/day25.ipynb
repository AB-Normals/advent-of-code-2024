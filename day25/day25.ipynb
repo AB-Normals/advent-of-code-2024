{
 "cells": [
  {
   "cell_type": "markdown",
   "metadata": {},
   "source": [
    "# --- Day 25: Code Chronicle ---\n"
   ]
  },
  {
   "cell_type": "code",
   "execution_count": 23,
   "metadata": {},
   "outputs": [
    {
     "name": "stdout",
     "output_type": "stream",
     "text": [
      "The solution of for part 1 is: 3365\n",
      "The solution of for part 2 is: 0\n"
     ]
    }
   ],
   "source": [
    "# --- Part One ---\n",
    "\n",
    "# from icecream import ic\n",
    "import re\n",
    "\n",
    "filename = \"input.txt\"\n",
    "\n",
    "#filename = \"test.txt\" # decomment to use test\n",
    "\n",
    "locks = []\n",
    "keys = []\n",
    "\n",
    "def parse_file(file_path):\n",
    "    global locks\n",
    "    global keys\n",
    "    lines = []\n",
    "    with open(file_path, 'r') as file:\n",
    "        lines = [l.strip() for l in file.readlines()]\n",
    "        #print (lines)\n",
    "\n",
    "    # Group lines in sets of 3 (Button A, Button B, Prize)\n",
    "    for i in range(0, len(lines), 8):\n",
    "        try:\n",
    "            # key or lock \n",
    "            code = [0,0,0,0,0]\n",
    "            if lines[i] == '#####': # this is a lock\n",
    "                for l in range (i+1, i+6, 1):\n",
    "                    for r in range(5):\n",
    "                        if lines[l][r] == '#':\n",
    "                            code[r] += 1\n",
    "                locks.append(code)        \n",
    "            elif lines[i+6] == '#####': # this is a key\n",
    "                for l in range (i+5, i, -1):\n",
    "                    for r in range(5):\n",
    "                        if lines[l][r] == '#':\n",
    "                            code[r] += 1\n",
    "                keys.append(code)        \n",
    "            else:\n",
    "                print(\"!ERROR : Not a Key or a Lock\")\n",
    "                return\n",
    "\n",
    "        except (IndexError, AttributeError):\n",
    "            # Handle cases where the file structure is unexpected\n",
    "            print(f\"Error parsing block starting at line {i}: {lines[i:i+3]}\")\n",
    "\n",
    "\n",
    "# ---- main -----\n",
    "\n",
    "parse_file(filename)\n",
    "# print (f\"locks : {locks}\")\n",
    "# print (f\"keys : {keys}\")\n",
    "\n",
    "# Check for key-locks fit\n",
    "res1 = 0\n",
    "for lock in locks:\n",
    "    for key in keys:\n",
    "        fit = max([k+l for k, l in zip(key, lock)]) <= 5\n",
    "        #  print(f\"lock : {lock}, key: {key} -> {[k+l for k, l in zip(key, lock)]} {fit}\")\n",
    "        if fit: res1 += 1\n",
    "print (f\"The solution of for part 1 is: {res1}\")\n",
    "\n",
    "\n",
    "\n",
    "\n",
    "res2 = 0\n",
    "print (f\"The solution of for part 2 is: {ret2}\")\n",
    "\n",
    "\n"
   ]
  }
 ],
 "metadata": {
  "kernelspec": {
   "display_name": ".venv",
   "language": "python",
   "name": "python3"
  },
  "language_info": {
   "codemirror_mode": {
    "name": "ipython",
    "version": 3
   },
   "file_extension": ".py",
   "mimetype": "text/x-python",
   "name": "python",
   "nbconvert_exporter": "python",
   "pygments_lexer": "ipython3",
   "version": "3.13.1"
  }
 },
 "nbformat": 4,
 "nbformat_minor": 2
}
